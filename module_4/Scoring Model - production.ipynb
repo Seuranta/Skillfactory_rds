{
 "cells": [
  {
   "cell_type": "code",
   "execution_count": 283,
   "metadata": {},
   "outputs": [],
   "source": [
    "#Импорт библиотек\n",
    "import pandas as pd\n",
    "from pandas import Series\n",
    "import numpy as np\n",
    "import matplotlib.pyplot as plt\n",
    "import seaborn as sns\n",
    "import datetime as dt\n",
    "import missingno as msno\n",
    "%matplotlib inline\n",
    "from sklearn.feature_selection import f_classif, mutual_info_classif\n",
    "from sklearn.preprocessing import LabelEncoder, OneHotEncoder, StandardScaler\n",
    "from sklearn.model_selection import train_test_split, GridSearchCV\n",
    "from sklearn.linear_model import LogisticRegression\n",
    "from sklearn.metrics import accuracy_score, precision_score, recall_score, f1_score, confusion_matrix\n",
    "from sklearn.metrics import auc, roc_auc_score, roc_curve, precision_recall_curve, average_precision_score"
   ]
  },
  {
   "cell_type": "markdown",
   "metadata": {},
   "source": [
    "## Импорт данных и \"предполетная\" подготовка"
   ]
  },
  {
   "cell_type": "code",
   "execution_count": 284,
   "metadata": {},
   "outputs": [],
   "source": [
    "#Импортируем данные\n",
    "\n",
    "df_sample = pd.read_csv(\"sample_submission.csv\", encoding = 'ISO-8859-1', low_memory = False)\n",
    "df_train = pd.read_csv('train.csv', encoding = 'ISO-8859-1', low_memory = False)\n",
    "df_test = pd.read_csv('test.csv', encoding = 'ISO-8859-1', low_memory = False)"
   ]
  },
  {
   "cell_type": "code",
   "execution_count": 285,
   "metadata": {},
   "outputs": [
    {
     "name": "stdout",
     "output_type": "stream",
     "text": [
      "(73799, 20)\n",
      "(36349, 20)\n",
      "(110148, 20)\n"
     ]
    }
   ],
   "source": [
    "# Чтобы можно было производить обработку всех данных сразу, объединим датасеты в один и пометим бинарными ключами. \n",
    "# По этим клшючам потом спокойно разделим его обратно\n",
    "df_train['sample'] = 1 \n",
    "df_test['sample'] = 0 \n",
    "df_test['default'] = 0 # мы должны предсказать default, поэтому пока просто заполняем тестовую часть нулями\n",
    "\n",
    "df = df_test.append(df_train, sort=False).reset_index(drop=True) # объединяем\n",
    "\n",
    "print(df_train.shape)\n",
    "print(df_test.shape)\n",
    "print(df.shape)"
   ]
  },
  {
   "cell_type": "code",
   "execution_count": 286,
   "metadata": {},
   "outputs": [],
   "source": [
    "# Также сразу зафиксируем Random_seed для воспроизводимости экспериментов\n",
    "RANDOM_SEED = 42 "
   ]
  },
  {
   "cell_type": "markdown",
   "metadata": {},
   "source": [
    "## Используемые функции и классы"
   ]
  },
  {
   "cell_type": "code",
   "execution_count": 287,
   "metadata": {},
   "outputs": [],
   "source": [
    "# Класс для работы с выбросами. Умеет выдавать информацию по кол-ву выбросов в стобцах, \n",
    "# показывать боксплоты и удалять выбросы. \n",
    "\n",
    "# P.S. Изначально в этом классе я просто забыл везде указывать Self, однако он работает и без этого. \n",
    "#      Если будет возможность, укажите пожалуйста в рецензии, почему.\n",
    "class outliers():\n",
    "    def find(df): #метод для поиска и вывода информации о выбросах\n",
    "        print(df.describe())\n",
    "        for col in df.columns:\n",
    "            if df[col].dtype != 'O':\n",
    "                counter = 0\n",
    "                Q1 = df[col].quantile(0.25)\n",
    "                Q3 = df[col].quantile(0.75)\n",
    "                IQR = Q3 - Q1\n",
    "                for string in df[col]:\n",
    "                    if (string < (Q1 - 1.5 * IQR) or string > (Q3 + 1.5 * IQR)):\n",
    "                        counter += 1\n",
    "                print('количество выбросов в столбце {}'.format(col), '-', counter)\n",
    "                \n",
    "    def show(df): #метод для отображения выбросов в виде боксплотов\n",
    "        fig, axes = plt.subplots(figsize=(40, 20))\n",
    "        df.boxplot()\n",
    "        \n",
    "    def delete(df): #метод для удаления выбросов\n",
    "        for col in df.columns:\n",
    "            if df[col].dtype != 'O':\n",
    "                Q1 = df[col].quantile(0.25)\n",
    "                Q3 = df[col].quantile(0.75)\n",
    "                IQR = Q3 - Q1\n",
    "                for string in df[col]:\n",
    "                    if (string < (Q1 - 1.5 * IQR) or string > (Q3 + 1.5 * IQR)):\n",
    "                        df = df.drop(df[df[col] == string].index)\n",
    "        return df\n",
    "\n",
    "#Функция для превращения признака app_data в набор отдельных признаков:\n",
    "def extract_datetime_features(df,datetime_col_name='app_date'):\n",
    "    results = {}\n",
    "    start = df[datetime_col_name].min()\n",
    "    results['month'] = df[datetime_col_name].dt.month\n",
    "    results['day'] = df[datetime_col_name].dt.day\n",
    "    results['week'] = df[datetime_col_name].dt.week\n",
    "    results['dayofweek'] = df[datetime_col_name].dt.dayofweek\n",
    "    results['dayofyear'] = df[datetime_col_name].dt.dayofyear\n",
    "    results['quarter'] = df[datetime_col_name].dt.quarter\n",
    "    results['weekofyear'] = df[datetime_col_name].dt.weekofyear\n",
    "    \n",
    "    return results"
   ]
  },
  {
   "cell_type": "markdown",
   "metadata": {},
   "source": [
    "## EDA"
   ]
  },
  {
   "cell_type": "markdown",
   "metadata": {},
   "source": [
    "#### Просмотр данных, работа над пропусками"
   ]
  },
  {
   "cell_type": "code",
   "execution_count": 288,
   "metadata": {},
   "outputs": [
    {
     "data": {
      "text/plain": [
       "<matplotlib.axes._subplots.AxesSubplot at 0x2768f3b89c8>"
      ]
     },
     "metadata": {},
     "output_type": "display_data"
    },
    {
     "data": {
      "text/plain": [
       "client_id             0\n",
       "app_date              0\n",
       "education           478\n",
       "sex                   0\n",
       "age                   0\n",
       "car                   0\n",
       "car_type              0\n",
       "decline_app_cnt       0\n",
       "good_work             0\n",
       "score_bki             0\n",
       "bki_request_cnt       0\n",
       "region_rating         0\n",
       "home_address          0\n",
       "work_address          0\n",
       "income                0\n",
       "sna                   0\n",
       "first_time            0\n",
       "foreign_passport      0\n",
       "sample                0\n",
       "default               0\n",
       "dtype: int64"
      ]
     },
     "metadata": {},
     "output_type": "display_data"
    },
    {
     "data": {
      "image/png": "[encoded data removed]",
      "text/plain": [
       "<Figure size 1800x720 with 2 Axes>"
      ]
     },
     "metadata": {
      "needs_background": "light"
     },
     "output_type": "display_data"
    }
   ],
   "source": [
    "#Теперь посмотрим, есть ли пропущенные значения в данных\n",
    "display(msno.matrix(df))\n",
    "display(df.isnull().sum())"
   ]
  },
  {
   "cell_type": "code",
   "execution_count": 289,
   "metadata": {},
   "outputs": [
    {
     "data": {
      "text/plain": [
       "<matplotlib.axes._subplots.AxesSubplot at 0x2768fffaec8>"
      ]
     },
     "execution_count": 289,
     "metadata": {},
     "output_type": "execute_result"
    },
    {
     "data": {
      "image/png": "[encoded data removed]",
      "text/plain": [
       "<Figure size 432x288 with 1 Axes>"
      ]
     },
     "metadata": {
      "needs_background": "light"
     },
     "output_type": "display_data"
    }
   ],
   "source": [
    "#Как видно,пропусков немного. Они встречаются только в столбце Education. \n",
    "#Посмотрим,как распределяются данные в этом столбце чтобы понять, как их обработать.\n",
    "df['education'].value_counts().plot.barh()"
   ]
  },
  {
   "cell_type": "code",
   "execution_count": 290,
   "metadata": {},
   "outputs": [],
   "source": [
    "# Судя по диаграммам, можно заполнить пропуски в столбце Education\n",
    "# самым часто встречюащимся значением, т.е SCH.\n",
    "df['education'] = df['education'].fillna('SCH')"
   ]
  },
  {
   "cell_type": "code",
   "execution_count": 291,
   "metadata": {},
   "outputs": [
    {
     "data": {
      "text/plain": [
       "<matplotlib.axes._subplots.AxesSubplot at 0x2768febd548>"
      ]
     },
     "execution_count": 291,
     "metadata": {},
     "output_type": "execute_result"
    },
    {
     "data": {
      "image/png": "[encoded data removed]",
      "text/plain": [
       "<Figure size 720x360 with 2 Axes>"
      ]
     },
     "metadata": {
      "needs_background": "light"
     },
     "output_type": "display_data"
    }
   ],
   "source": [
    "# Также сразу посмотрим, можно ли отбросить какие-то признаки из-за сильной корреляции:\n",
    "plt.figure(figsize=(10,5))\n",
    "sns.heatmap(df.corr().abs(), vmin=0, vmax=1, annot=True)"
   ]
  },
  {
   "cell_type": "code",
   "execution_count": 292,
   "metadata": {},
   "outputs": [],
   "source": [
    "# work_address и home_address имеют самую высокую степень корреляции. \n",
    "# Также сильно скореллированы sna и first_time.\n",
    "# Удалим work_address. first_time и sna удалять не будем, они важны.\n",
    "\n",
    "df = df.drop(['work_address'],axis=1)"
   ]
  },
  {
   "cell_type": "markdown",
   "metadata": {},
   "source": [
    "#### Обработка признака Client_id"
   ]
  },
  {
   "cell_type": "code",
   "execution_count": 293,
   "metadata": {},
   "outputs": [],
   "source": [
    "#Сразу выделим из тестовых данных признак client_id в отдельную переменную.\n",
    "#Для клиентских id мы в конечном итоге и будем делать прогноз, а пока из самих датасетов\n",
    "#его уберем.\n",
    "clients = df['client_id']\n",
    "df = df.drop(['client_id'],axis=1)"
   ]
  },
  {
   "cell_type": "markdown",
   "metadata": {},
   "source": [
    "#### Обработка признака app_date"
   ]
  },
  {
   "cell_type": "code",
   "execution_count": 294,
   "metadata": {},
   "outputs": [
    {
     "data": {
      "text/plain": [
       "0    22MAR2014\n",
       "Name: app_date, dtype: object"
      ]
     },
     "execution_count": 294,
     "metadata": {},
     "output_type": "execute_result"
    }
   ],
   "source": [
    "#В том формате, в котором дата обращения представлена по умолчанию, ничего сделать с ней не плучится.\n",
    "df['app_date'].head(1)"
   ]
  },
  {
   "cell_type": "code",
   "execution_count": 295,
   "metadata": {},
   "outputs": [],
   "source": [
    "#Для этого сначала преобразуем этот признак в формат datetime\n",
    "df['app_date'] = pd.to_datetime(df['app_date'])"
   ]
  },
  {
   "cell_type": "code",
   "execution_count": 296,
   "metadata": {},
   "outputs": [],
   "source": [
    "#А затем с помощью функции extract_datetime_features разобьем признак app_date на субпризнаки:\n",
    "#1) Месяц обращения\n",
    "#2) День обращения\n",
    "#3) Неделя обращения\n",
    "#4) день недели обращения\n",
    "#5) День года обращения\n",
    "#6) Квартал\n",
    "#7) Неделя года обращения\n",
    "    \n",
    "for k,v in extract_datetime_features(df).items():\n",
    "    df[k]=v\n",
    "df.drop(labels=['app_date'], axis=1, inplace=True)"
   ]
  },
  {
   "cell_type": "markdown",
   "metadata": {},
   "source": [
    "#### Разбиение признаков по группам."
   ]
  },
  {
   "cell_type": "code",
   "execution_count": 297,
   "metadata": {},
   "outputs": [
    {
     "data": {
      "text/html": [
       "<div>\n",
       "<style scoped>\n",
       "    .dataframe tbody tr th:only-of-type {\n",
       "        vertical-align: middle;\n",
       "    }\n",
       "\n",
       "    .dataframe tbody tr th {\n",
       "        vertical-align: top;\n",
       "    }\n",
       "\n",
       "    .dataframe thead th {\n",
       "        text-align: right;\n",
       "    }\n",
       "</style>\n",
       "<table border=\"1\" class=\"dataframe\">\n",
       "  <thead>\n",
       "    <tr style=\"text-align: right;\">\n",
       "      <th></th>\n",
       "      <th>education</th>\n",
       "      <th>sex</th>\n",
       "      <th>age</th>\n",
       "      <th>car</th>\n",
       "      <th>car_type</th>\n",
       "      <th>decline_app_cnt</th>\n",
       "      <th>good_work</th>\n",
       "      <th>score_bki</th>\n",
       "      <th>bki_request_cnt</th>\n",
       "      <th>region_rating</th>\n",
       "      <th>...</th>\n",
       "      <th>foreign_passport</th>\n",
       "      <th>sample</th>\n",
       "      <th>default</th>\n",
       "      <th>month</th>\n",
       "      <th>day</th>\n",
       "      <th>week</th>\n",
       "      <th>dayofweek</th>\n",
       "      <th>dayofyear</th>\n",
       "      <th>quarter</th>\n",
       "      <th>weekofyear</th>\n",
       "    </tr>\n",
       "  </thead>\n",
       "  <tbody>\n",
       "    <tr>\n",
       "      <th>0</th>\n",
       "      <td>GRD</td>\n",
       "      <td>M</td>\n",
       "      <td>29</td>\n",
       "      <td>Y</td>\n",
       "      <td>Y</td>\n",
       "      <td>0</td>\n",
       "      <td>0</td>\n",
       "      <td>-2.271884</td>\n",
       "      <td>3</td>\n",
       "      <td>50</td>\n",
       "      <td>...</td>\n",
       "      <td>N</td>\n",
       "      <td>0</td>\n",
       "      <td>0</td>\n",
       "      <td>3</td>\n",
       "      <td>22</td>\n",
       "      <td>12</td>\n",
       "      <td>5</td>\n",
       "      <td>81</td>\n",
       "      <td>1</td>\n",
       "      <td>12</td>\n",
       "    </tr>\n",
       "    <tr>\n",
       "      <th>1</th>\n",
       "      <td>SCH</td>\n",
       "      <td>F</td>\n",
       "      <td>39</td>\n",
       "      <td>N</td>\n",
       "      <td>N</td>\n",
       "      <td>5</td>\n",
       "      <td>0</td>\n",
       "      <td>-1.504999</td>\n",
       "      <td>2</td>\n",
       "      <td>50</td>\n",
       "      <td>...</td>\n",
       "      <td>N</td>\n",
       "      <td>0</td>\n",
       "      <td>0</td>\n",
       "      <td>1</td>\n",
       "      <td>24</td>\n",
       "      <td>4</td>\n",
       "      <td>4</td>\n",
       "      <td>24</td>\n",
       "      <td>1</td>\n",
       "      <td>4</td>\n",
       "    </tr>\n",
       "    <tr>\n",
       "      <th>2</th>\n",
       "      <td>UGR</td>\n",
       "      <td>M</td>\n",
       "      <td>50</td>\n",
       "      <td>Y</td>\n",
       "      <td>Y</td>\n",
       "      <td>0</td>\n",
       "      <td>0</td>\n",
       "      <td>-1.691339</td>\n",
       "      <td>1</td>\n",
       "      <td>50</td>\n",
       "      <td>...</td>\n",
       "      <td>Y</td>\n",
       "      <td>0</td>\n",
       "      <td>0</td>\n",
       "      <td>3</td>\n",
       "      <td>23</td>\n",
       "      <td>12</td>\n",
       "      <td>6</td>\n",
       "      <td>82</td>\n",
       "      <td>1</td>\n",
       "      <td>12</td>\n",
       "    </tr>\n",
       "    <tr>\n",
       "      <th>3</th>\n",
       "      <td>SCH</td>\n",
       "      <td>M</td>\n",
       "      <td>56</td>\n",
       "      <td>N</td>\n",
       "      <td>N</td>\n",
       "      <td>0</td>\n",
       "      <td>0</td>\n",
       "      <td>-2.374182</td>\n",
       "      <td>1</td>\n",
       "      <td>40</td>\n",
       "      <td>...</td>\n",
       "      <td>N</td>\n",
       "      <td>0</td>\n",
       "      <td>0</td>\n",
       "      <td>2</td>\n",
       "      <td>3</td>\n",
       "      <td>6</td>\n",
       "      <td>0</td>\n",
       "      <td>34</td>\n",
       "      <td>1</td>\n",
       "      <td>6</td>\n",
       "    </tr>\n",
       "    <tr>\n",
       "      <th>4</th>\n",
       "      <td>GRD</td>\n",
       "      <td>F</td>\n",
       "      <td>38</td>\n",
       "      <td>N</td>\n",
       "      <td>N</td>\n",
       "      <td>0</td>\n",
       "      <td>0</td>\n",
       "      <td>-2.487502</td>\n",
       "      <td>0</td>\n",
       "      <td>80</td>\n",
       "      <td>...</td>\n",
       "      <td>N</td>\n",
       "      <td>0</td>\n",
       "      <td>0</td>\n",
       "      <td>2</td>\n",
       "      <td>4</td>\n",
       "      <td>6</td>\n",
       "      <td>1</td>\n",
       "      <td>35</td>\n",
       "      <td>1</td>\n",
       "      <td>6</td>\n",
       "    </tr>\n",
       "    <tr>\n",
       "      <th>...</th>\n",
       "      <td>...</td>\n",
       "      <td>...</td>\n",
       "      <td>...</td>\n",
       "      <td>...</td>\n",
       "      <td>...</td>\n",
       "      <td>...</td>\n",
       "      <td>...</td>\n",
       "      <td>...</td>\n",
       "      <td>...</td>\n",
       "      <td>...</td>\n",
       "      <td>...</td>\n",
       "      <td>...</td>\n",
       "      <td>...</td>\n",
       "      <td>...</td>\n",
       "      <td>...</td>\n",
       "      <td>...</td>\n",
       "      <td>...</td>\n",
       "      <td>...</td>\n",
       "      <td>...</td>\n",
       "      <td>...</td>\n",
       "      <td>...</td>\n",
       "    </tr>\n",
       "    <tr>\n",
       "      <th>110143</th>\n",
       "      <td>GRD</td>\n",
       "      <td>F</td>\n",
       "      <td>45</td>\n",
       "      <td>N</td>\n",
       "      <td>N</td>\n",
       "      <td>0</td>\n",
       "      <td>0</td>\n",
       "      <td>-1.792064</td>\n",
       "      <td>3</td>\n",
       "      <td>50</td>\n",
       "      <td>...</td>\n",
       "      <td>N</td>\n",
       "      <td>1</td>\n",
       "      <td>0</td>\n",
       "      <td>3</td>\n",
       "      <td>4</td>\n",
       "      <td>10</td>\n",
       "      <td>1</td>\n",
       "      <td>63</td>\n",
       "      <td>1</td>\n",
       "      <td>10</td>\n",
       "    </tr>\n",
       "    <tr>\n",
       "      <th>110144</th>\n",
       "      <td>SCH</td>\n",
       "      <td>M</td>\n",
       "      <td>41</td>\n",
       "      <td>Y</td>\n",
       "      <td>Y</td>\n",
       "      <td>0</td>\n",
       "      <td>0</td>\n",
       "      <td>-2.058029</td>\n",
       "      <td>1</td>\n",
       "      <td>50</td>\n",
       "      <td>...</td>\n",
       "      <td>N</td>\n",
       "      <td>1</td>\n",
       "      <td>0</td>\n",
       "      <td>3</td>\n",
       "      <td>24</td>\n",
       "      <td>13</td>\n",
       "      <td>0</td>\n",
       "      <td>83</td>\n",
       "      <td>1</td>\n",
       "      <td>13</td>\n",
       "    </tr>\n",
       "    <tr>\n",
       "      <th>110145</th>\n",
       "      <td>SCH</td>\n",
       "      <td>M</td>\n",
       "      <td>31</td>\n",
       "      <td>N</td>\n",
       "      <td>N</td>\n",
       "      <td>0</td>\n",
       "      <td>0</td>\n",
       "      <td>-1.512635</td>\n",
       "      <td>4</td>\n",
       "      <td>80</td>\n",
       "      <td>...</td>\n",
       "      <td>N</td>\n",
       "      <td>1</td>\n",
       "      <td>0</td>\n",
       "      <td>4</td>\n",
       "      <td>22</td>\n",
       "      <td>17</td>\n",
       "      <td>1</td>\n",
       "      <td>112</td>\n",
       "      <td>2</td>\n",
       "      <td>17</td>\n",
       "    </tr>\n",
       "    <tr>\n",
       "      <th>110146</th>\n",
       "      <td>SCH</td>\n",
       "      <td>F</td>\n",
       "      <td>29</td>\n",
       "      <td>N</td>\n",
       "      <td>N</td>\n",
       "      <td>0</td>\n",
       "      <td>1</td>\n",
       "      <td>-1.479334</td>\n",
       "      <td>3</td>\n",
       "      <td>50</td>\n",
       "      <td>...</td>\n",
       "      <td>N</td>\n",
       "      <td>1</td>\n",
       "      <td>1</td>\n",
       "      <td>1</td>\n",
       "      <td>4</td>\n",
       "      <td>1</td>\n",
       "      <td>5</td>\n",
       "      <td>4</td>\n",
       "      <td>1</td>\n",
       "      <td>1</td>\n",
       "    </tr>\n",
       "    <tr>\n",
       "      <th>110147</th>\n",
       "      <td>GRD</td>\n",
       "      <td>M</td>\n",
       "      <td>34</td>\n",
       "      <td>N</td>\n",
       "      <td>N</td>\n",
       "      <td>0</td>\n",
       "      <td>0</td>\n",
       "      <td>-1.764711</td>\n",
       "      <td>2</td>\n",
       "      <td>50</td>\n",
       "      <td>...</td>\n",
       "      <td>N</td>\n",
       "      <td>1</td>\n",
       "      <td>0</td>\n",
       "      <td>1</td>\n",
       "      <td>23</td>\n",
       "      <td>4</td>\n",
       "      <td>3</td>\n",
       "      <td>23</td>\n",
       "      <td>1</td>\n",
       "      <td>4</td>\n",
       "    </tr>\n",
       "  </tbody>\n",
       "</table>\n",
       "<p>110148 rows × 24 columns</p>\n",
       "</div>"
      ],
      "text/plain": [
       "       education sex  age car car_type  decline_app_cnt  good_work  score_bki  \\\n",
       "0            GRD   M   29   Y        Y                0          0  -2.271884   \n",
       "1            SCH   F   39   N        N                5          0  -1.504999   \n",
       "2            UGR   M   50   Y        Y                0          0  -1.691339   \n",
       "3            SCH   M   56   N        N                0          0  -2.374182   \n",
       "4            GRD   F   38   N        N                0          0  -2.487502   \n",
       "...          ...  ..  ...  ..      ...              ...        ...        ...   \n",
       "110143       GRD   F   45   N        N                0          0  -1.792064   \n",
       "110144       SCH   M   41   Y        Y                0          0  -2.058029   \n",
       "110145       SCH   M   31   N        N                0          0  -1.512635   \n",
       "110146       SCH   F   29   N        N                0          1  -1.479334   \n",
       "110147       GRD   M   34   N        N                0          0  -1.764711   \n",
       "\n",
       "        bki_request_cnt  region_rating  ...  foreign_passport  sample  \\\n",
       "0                     3             50  ...                 N       0   \n",
       "1                     2             50  ...                 N       0   \n",
       "2                     1             50  ...                 Y       0   \n",
       "3                     1             40  ...                 N       0   \n",
       "4                     0             80  ...                 N       0   \n",
       "...                 ...            ...  ...               ...     ...   \n",
       "110143                3             50  ...                 N       1   \n",
       "110144                1             50  ...                 N       1   \n",
       "110145                4             80  ...                 N       1   \n",
       "110146                3             50  ...                 N       1   \n",
       "110147                2             50  ...                 N       1   \n",
       "\n",
       "        default  month day  week  dayofweek  dayofyear  quarter  weekofyear  \n",
       "0             0      3  22    12          5         81        1          12  \n",
       "1             0      1  24     4          4         24        1           4  \n",
       "2             0      3  23    12          6         82        1          12  \n",
       "3             0      2   3     6          0         34        1           6  \n",
       "4             0      2   4     6          1         35        1           6  \n",
       "...         ...    ...  ..   ...        ...        ...      ...         ...  \n",
       "110143        0      3   4    10          1         63        1          10  \n",
       "110144        0      3  24    13          0         83        1          13  \n",
       "110145        0      4  22    17          1        112        2          17  \n",
       "110146        1      1   4     1          5          4        1           1  \n",
       "110147        0      1  23     4          3         23        1           4  \n",
       "\n",
       "[110148 rows x 24 columns]"
      ]
     },
     "execution_count": 297,
     "metadata": {},
     "output_type": "execute_result"
    }
   ],
   "source": [
    "df"
   ]
  },
  {
   "cell_type": "code",
   "execution_count": 298,
   "metadata": {},
   "outputs": [],
   "source": [
    "#Разобьем переменные по группам\n",
    "bin_cols = ['sex','car','car_type','good_work','foreign_passport']\n",
    "cat_cols = ['education','home_address']\n",
    "num_cols = ['age','decline_app_cnt','income','bki_request_cnt']\n",
    "\n",
    "#Признаки, получившиеся в результате преобразования даты, выделим в отдельную категорию\n",
    "date_cols = ['month','day','week','dayofweek','dayofyear','quarter','weekofyear'] "
   ]
  },
  {
   "cell_type": "code",
   "execution_count": null,
   "metadata": {},
   "outputs": [],
   "source": []
  },
  {
   "cell_type": "markdown",
   "metadata": {},
   "source": [
    "#### Обработка бинарных признаков"
   ]
  },
  {
   "cell_type": "code",
   "execution_count": 299,
   "metadata": {},
   "outputs": [
    {
     "data": {
      "text/html": [
       "<div>\n",
       "<style scoped>\n",
       "    .dataframe tbody tr th:only-of-type {\n",
       "        vertical-align: middle;\n",
       "    }\n",
       "\n",
       "    .dataframe tbody tr th {\n",
       "        vertical-align: top;\n",
       "    }\n",
       "\n",
       "    .dataframe thead th {\n",
       "        text-align: right;\n",
       "    }\n",
       "</style>\n",
       "<table border=\"1\" class=\"dataframe\">\n",
       "  <thead>\n",
       "    <tr style=\"text-align: right;\">\n",
       "      <th></th>\n",
       "      <th>education</th>\n",
       "      <th>sex</th>\n",
       "      <th>age</th>\n",
       "      <th>car</th>\n",
       "      <th>car_type</th>\n",
       "      <th>decline_app_cnt</th>\n",
       "      <th>good_work</th>\n",
       "      <th>score_bki</th>\n",
       "      <th>bki_request_cnt</th>\n",
       "      <th>region_rating</th>\n",
       "      <th>...</th>\n",
       "      <th>foreign_passport</th>\n",
       "      <th>sample</th>\n",
       "      <th>default</th>\n",
       "      <th>month</th>\n",
       "      <th>day</th>\n",
       "      <th>week</th>\n",
       "      <th>dayofweek</th>\n",
       "      <th>dayofyear</th>\n",
       "      <th>quarter</th>\n",
       "      <th>weekofyear</th>\n",
       "    </tr>\n",
       "  </thead>\n",
       "  <tbody>\n",
       "    <tr>\n",
       "      <th>0</th>\n",
       "      <td>1</td>\n",
       "      <td>1</td>\n",
       "      <td>29</td>\n",
       "      <td>1</td>\n",
       "      <td>1</td>\n",
       "      <td>0</td>\n",
       "      <td>0</td>\n",
       "      <td>-2.271884</td>\n",
       "      <td>3</td>\n",
       "      <td>50</td>\n",
       "      <td>...</td>\n",
       "      <td>0</td>\n",
       "      <td>0</td>\n",
       "      <td>0</td>\n",
       "      <td>3</td>\n",
       "      <td>22</td>\n",
       "      <td>12</td>\n",
       "      <td>5</td>\n",
       "      <td>81</td>\n",
       "      <td>1</td>\n",
       "      <td>12</td>\n",
       "    </tr>\n",
       "    <tr>\n",
       "      <th>1</th>\n",
       "      <td>3</td>\n",
       "      <td>0</td>\n",
       "      <td>39</td>\n",
       "      <td>0</td>\n",
       "      <td>0</td>\n",
       "      <td>5</td>\n",
       "      <td>0</td>\n",
       "      <td>-1.504999</td>\n",
       "      <td>2</td>\n",
       "      <td>50</td>\n",
       "      <td>...</td>\n",
       "      <td>0</td>\n",
       "      <td>0</td>\n",
       "      <td>0</td>\n",
       "      <td>1</td>\n",
       "      <td>24</td>\n",
       "      <td>4</td>\n",
       "      <td>4</td>\n",
       "      <td>24</td>\n",
       "      <td>1</td>\n",
       "      <td>4</td>\n",
       "    </tr>\n",
       "    <tr>\n",
       "      <th>2</th>\n",
       "      <td>4</td>\n",
       "      <td>1</td>\n",
       "      <td>50</td>\n",
       "      <td>1</td>\n",
       "      <td>1</td>\n",
       "      <td>0</td>\n",
       "      <td>0</td>\n",
       "      <td>-1.691339</td>\n",
       "      <td>1</td>\n",
       "      <td>50</td>\n",
       "      <td>...</td>\n",
       "      <td>1</td>\n",
       "      <td>0</td>\n",
       "      <td>0</td>\n",
       "      <td>3</td>\n",
       "      <td>23</td>\n",
       "      <td>12</td>\n",
       "      <td>6</td>\n",
       "      <td>82</td>\n",
       "      <td>1</td>\n",
       "      <td>12</td>\n",
       "    </tr>\n",
       "    <tr>\n",
       "      <th>3</th>\n",
       "      <td>3</td>\n",
       "      <td>1</td>\n",
       "      <td>56</td>\n",
       "      <td>0</td>\n",
       "      <td>0</td>\n",
       "      <td>0</td>\n",
       "      <td>0</td>\n",
       "      <td>-2.374182</td>\n",
       "      <td>1</td>\n",
       "      <td>40</td>\n",
       "      <td>...</td>\n",
       "      <td>0</td>\n",
       "      <td>0</td>\n",
       "      <td>0</td>\n",
       "      <td>2</td>\n",
       "      <td>3</td>\n",
       "      <td>6</td>\n",
       "      <td>0</td>\n",
       "      <td>34</td>\n",
       "      <td>1</td>\n",
       "      <td>6</td>\n",
       "    </tr>\n",
       "    <tr>\n",
       "      <th>4</th>\n",
       "      <td>1</td>\n",
       "      <td>0</td>\n",
       "      <td>38</td>\n",
       "      <td>0</td>\n",
       "      <td>0</td>\n",
       "      <td>0</td>\n",
       "      <td>0</td>\n",
       "      <td>-2.487502</td>\n",
       "      <td>0</td>\n",
       "      <td>80</td>\n",
       "      <td>...</td>\n",
       "      <td>0</td>\n",
       "      <td>0</td>\n",
       "      <td>0</td>\n",
       "      <td>2</td>\n",
       "      <td>4</td>\n",
       "      <td>6</td>\n",
       "      <td>1</td>\n",
       "      <td>35</td>\n",
       "      <td>1</td>\n",
       "      <td>6</td>\n",
       "    </tr>\n",
       "  </tbody>\n",
       "</table>\n",
       "<p>5 rows × 24 columns</p>\n",
       "</div>"
      ],
      "text/plain": [
       "   education  sex  age  car  car_type  decline_app_cnt  good_work  score_bki  \\\n",
       "0          1    1   29    1         1                0          0  -2.271884   \n",
       "1          3    0   39    0         0                5          0  -1.504999   \n",
       "2          4    1   50    1         1                0          0  -1.691339   \n",
       "3          3    1   56    0         0                0          0  -2.374182   \n",
       "4          1    0   38    0         0                0          0  -2.487502   \n",
       "\n",
       "   bki_request_cnt  region_rating  ...  foreign_passport  sample  default  \\\n",
       "0                3             50  ...                 0       0        0   \n",
       "1                2             50  ...                 0       0        0   \n",
       "2                1             50  ...                 1       0        0   \n",
       "3                1             40  ...                 0       0        0   \n",
       "4                0             80  ...                 0       0        0   \n",
       "\n",
       "   month  day  week  dayofweek  dayofyear  quarter  weekofyear  \n",
       "0      3   22    12          5         81        1          12  \n",
       "1      1   24     4          4         24        1           4  \n",
       "2      3   23    12          6         82        1          12  \n",
       "3      2    3     6          0         34        1           6  \n",
       "4      2    4     6          1         35        1           6  \n",
       "\n",
       "[5 rows x 24 columns]"
      ]
     },
     "execution_count": 299,
     "metadata": {},
     "output_type": "execute_result"
    }
   ],
   "source": [
    "#Для бинарных признаков мы будем использовать LabelEncoder\n",
    "label_encoder = LabelEncoder()\n",
    "\n",
    "for column in bin_cols:\n",
    "    df[column] = label_encoder.fit_transform(df[column])\n",
    "\n",
    "# то же самое сделаем для признака education\n",
    "df['education'] = label_encoder.fit_transform(df['education'])\n",
    "# убедимся в преобразовании    \n",
    "df.head()"
   ]
  },
  {
   "cell_type": "markdown",
   "metadata": {},
   "source": [
    "#### Обработка категориальных признаков"
   ]
  },
  {
   "cell_type": "code",
   "execution_count": 300,
   "metadata": {},
   "outputs": [],
   "source": [
    "#Категориальные признаки можно просто преобразовать в Dummies\n",
    "df = pd.get_dummies(df,columns=['education','home_address'])"
   ]
  },
  {
   "cell_type": "markdown",
   "metadata": {},
   "source": [
    "#### Обработка числовых признаков"
   ]
  },
  {
   "cell_type": "code",
   "execution_count": 301,
   "metadata": {},
   "outputs": [
    {
     "data": {
      "text/plain": [
       "Text(0.5, 1.0, 'количество запросов в БКИ')"
      ]
     },
     "execution_count": 301,
     "metadata": {},
     "output_type": "execute_result"
    },
    {
     "data": {
      "image/png": "[encoded data removed]",
      "text/plain": [
       "<Figure size 1224x1080 with 4 Axes>"
      ]
     },
     "metadata": {
      "needs_background": "light"
     },
     "output_type": "display_data"
    }
   ],
   "source": [
    "# Cмотрим на распределения числовых признаков в тренировочных данных. \n",
    "\n",
    "fig, axes = plt.subplots(2, 2, figsize=(17, 15))\n",
    " \n",
    "axes[0][0].hist(df['age'])\n",
    "axes[0][0].set_title('Возраст')\n",
    "\n",
    "axes[0][1].hist(df['decline_app_cnt'])\n",
    "axes[0][1].set_title('количество отказанных прошлых заявок')\n",
    "\n",
    "axes[1][0].hist(df['income'])\n",
    "axes[1][0].set_title('доход заёмщика')\n",
    "\n",
    "axes[1][1].hist(df['bki_request_cnt'])\n",
    "axes[1][1].set_title('количество запросов в БКИ')\n"
   ]
  },
  {
   "cell_type": "code",
   "execution_count": 302,
   "metadata": {},
   "outputs": [
    {
     "name": "stdout",
     "output_type": "stream",
     "text": [
      "                 age  decline_app_cnt          income  bki_request_cnt\n",
      "count  110148.000000    110148.000000   110148.000000    110148.000000\n",
      "mean       39.249410         0.273205    41012.648537         2.005002\n",
      "std        11.518063         0.799099    45399.735051         2.266926\n",
      "min        21.000000         0.000000     1000.000000         0.000000\n",
      "25%        30.000000         0.000000    20000.000000         0.000000\n",
      "50%        37.000000         0.000000    30000.000000         1.000000\n",
      "75%        48.000000         0.000000    48000.000000         3.000000\n",
      "max        72.000000        33.000000  1000000.000000        53.000000\n",
      "количество выбросов в столбце age - 0\n",
      "количество выбросов в столбце decline_app_cnt - 18677\n",
      "количество выбросов в столбце income - 7000\n",
      "количество выбросов в столбце bki_request_cnt - 2636\n"
     ]
    }
   ],
   "source": [
    "# Из гистограмм выше кажется, что выбросы есть, но их немного. \n",
    "# Однако я написал класс, который покажет более точную информацию.\n",
    "outliers.find(df[num_cols])"
   ]
  },
  {
   "cell_type": "code",
   "execution_count": 303,
   "metadata": {},
   "outputs": [
    {
     "name": "stdout",
     "output_type": "stream",
     "text": [
      "                 age  decline_app_cnt         income  bki_request_cnt\n",
      "count  110148.000000    110148.000000  110148.000000    110148.000000\n",
      "mean        3.654546         0.151330      10.345792         0.878752\n",
      "std         0.285054         0.361331       0.696636         0.658667\n",
      "min         3.091042         0.000000       6.908755         0.000000\n",
      "25%         3.433987         0.000000       9.903538         0.000000\n",
      "50%         3.637586         0.000000      10.308986         0.693147\n",
      "75%         3.891820         0.000000      10.778977         1.386294\n",
      "max         4.290459         3.526361      13.815512         3.988984\n",
      "количество выбросов в столбце age - 0\n",
      "количество выбросов в столбце decline_app_cnt - 18677\n",
      "количество выбросов в столбце income - 2609\n",
      "количество выбросов в столбце bki_request_cnt - 15\n"
     ]
    }
   ],
   "source": [
    "# Если судить по цифрам, то выбросов везде, кроме age, оказывается весьма ощутимое количество. \n",
    "# В общей сумме это больше четверти всего датасета. Попробуем поискать выбросы в тех же данных, \n",
    "# но логарифмированных.\n",
    "outliers.find(np.log(df[num_cols]+1))"
   ]
  },
  {
   "cell_type": "code",
   "execution_count": 304,
   "metadata": {},
   "outputs": [],
   "source": [
    "# Ситуация стала получше везде, кроме признака decline_app_cnt. Попробуем оставить это как есть \n",
    "# и логарифмируем все признаки\n",
    "df['age'] = np.log(df['age']+1)\n",
    "df['bki_request_cnt'] = np.log(df['bki_request_cnt']+1)\n",
    "df['income'] = np.log(df['income']+1)\n",
    "df['decline_app_cnt'] = np.log(df['decline_app_cnt']+1)\n"
   ]
  },
  {
   "cell_type": "code",
   "execution_count": 305,
   "metadata": {},
   "outputs": [
    {
     "data": {
      "text/plain": [
       "<matplotlib.axes._subplots.AxesSubplot at 0x2768ed50148>"
      ]
     },
     "execution_count": 305,
     "metadata": {},
     "output_type": "execute_result"
    },
    {
     "data": {
      "image/png": "[encoded data removed]",
      "text/plain": [
       "<Figure size 432x288 with 1 Axes>"
      ]
     },
     "metadata": {
      "needs_background": "light"
     },
     "output_type": "display_data"
    }
   ],
   "source": [
    "# Оценим важность числовых признаков\n",
    "imp_num = Series(f_classif(df[num_cols], df['default'])[0], index = num_cols)\n",
    "imp_num.sort_values(inplace = True)\n",
    "imp_num.plot(kind = 'barh')"
   ]
  },
  {
   "cell_type": "code",
   "execution_count": 306,
   "metadata": {},
   "outputs": [
    {
     "data": {
      "text/plain": [
       "<matplotlib.axes._subplots.AxesSubplot at 0x2768ed56d08>"
      ]
     },
     "execution_count": 306,
     "metadata": {},
     "output_type": "execute_result"
    },
    {
     "data": {
      "image/png": "[encoded data removed]",
      "text/plain": [
       "<Figure size 432x288 with 1 Axes>"
      ]
     },
     "metadata": {
      "needs_background": "light"
     },
     "output_type": "display_data"
    }
   ],
   "source": [
    "# Оценим важность бинарных признаков\n",
    "imp_num = Series(f_classif(df[bin_cols], df['default'])[0], index = bin_cols)\n",
    "imp_num.sort_values(inplace = True)\n",
    "imp_num.plot(kind = 'barh')"
   ]
  },
  {
   "cell_type": "code",
   "execution_count": null,
   "metadata": {},
   "outputs": [],
   "source": []
  },
  {
   "cell_type": "code",
   "execution_count": 307,
   "metadata": {},
   "outputs": [
    {
     "data": {
      "text/plain": [
       "<matplotlib.axes._subplots.AxesSubplot at 0x27692f38648>"
      ]
     },
     "execution_count": 307,
     "metadata": {},
     "output_type": "execute_result"
    },
    {
     "data": {
      "image/png": "[encoded data removed]",
      "text/plain": [
       "<Figure size 720x360 with 2 Axes>"
      ]
     },
     "metadata": {
      "needs_background": "light"
     },
     "output_type": "display_data"
    }
   ],
   "source": [
    "# Самый значительный - decline_app_cnt\n",
    "# Теперь посмотрим матрицу корреляци для числовых признаков.\n",
    "plt.figure(figsize=(10,5))\n",
    "sns.heatmap(df[num_cols].corr().abs(), vmin=0, vmax=1, annot=True)"
   ]
  },
  {
   "cell_type": "code",
   "execution_count": 308,
   "metadata": {},
   "outputs": [
    {
     "data": {
      "text/plain": [
       "<matplotlib.axes._subplots.AxesSubplot at 0x2768c3e3b48>"
      ]
     },
     "execution_count": 308,
     "metadata": {},
     "output_type": "execute_result"
    },
    {
     "data": {
      "image/png": "[encoded data removed]",
      "text/plain": [
       "<Figure size 720x360 with 2 Axes>"
      ]
     },
     "metadata": {
      "needs_background": "light"
     },
     "output_type": "display_data"
    }
   ],
   "source": [
    "# Явных корреляций здесь нет.Теперь посмотрим корреляции признаков дат\n",
    "plt.figure(figsize=(10,5))\n",
    "sns.heatmap(df[date_cols].corr().abs(), vmin=0, vmax=1, annot=True)"
   ]
  },
  {
   "cell_type": "code",
   "execution_count": 309,
   "metadata": {},
   "outputs": [],
   "source": [
    "# Явно видно, что с признаками дат мы переборщили. Уберем weekofyear, quarter, dayofyear:\n",
    "df = df.drop(['weekofyear'],axis=1)\n",
    "df = df.drop(['quarter'],axis=1)\n",
    "df = df.drop(['dayofyear'],axis=1)"
   ]
  },
  {
   "cell_type": "code",
   "execution_count": 310,
   "metadata": {},
   "outputs": [],
   "source": [
    "# Атуализируем группы\n",
    "bin_cols = ['sex','car','car_type','good_work','foreign_passport']\n",
    "cat_cols = ['home_address']\n",
    "num_cols = ['age','decline_app_cnt','income','bki_request_cnt']\n",
    "\n",
    "# Признаки, получившиеся в результате преобразования даты, выделим в отдельную категорию\n",
    "date_cols = ['month','day','week','dayofweek'] "
   ]
  },
  {
   "cell_type": "markdown",
   "metadata": {},
   "source": [
    "### Подготовка модели"
   ]
  },
  {
   "cell_type": "code",
   "execution_count": 311,
   "metadata": {},
   "outputs": [],
   "source": [
    "# Прежде всего вернем в датасет признак ClientID:\n",
    "\n",
    "df['client_id'] = clients"
   ]
  },
  {
   "cell_type": "code",
   "execution_count": 312,
   "metadata": {},
   "outputs": [],
   "source": [
    "# Разделим датасет обратно на тестовые и тренировочные данные. \n",
    "# Обучение и тестирование модели будет производиться на тренировочных данных. \n",
    "# Из тестового датасета отдельно сохраним данные с клиентскими id\n",
    "\n",
    "df_train = df.query('sample == 1').drop(['sample', 'client_id'], axis=1)\n",
    "df_test = df.query('sample == 0').drop(['sample', 'default'], axis=1)\n",
    "\n",
    "y = df_train.default.values           \n",
    "X = df_train.drop(['default'], axis=1).values"
   ]
  },
  {
   "cell_type": "code",
   "execution_count": 313,
   "metadata": {},
   "outputs": [
    {
     "data": {
      "text/plain": [
       "((36349, 26), (73799, 26), (73799, 25), (59039, 25), (14760, 25))"
      ]
     },
     "execution_count": 313,
     "metadata": {},
     "output_type": "execute_result"
    }
   ],
   "source": [
    "X_train, X_valid, y_train, y_valid = train_test_split(X, y, test_size=0.2, random_state=RANDOM_SEED)\n",
    "df_test.shape, df_train.shape, X.shape, X_train.shape, X_valid.shape"
   ]
  },
  {
   "cell_type": "code",
   "execution_count": 314,
   "metadata": {},
   "outputs": [],
   "source": [
    "model = LogisticRegression(random_state=RANDOM_SEED, max_iter = 1000)\n",
    "\n",
    "model.fit(X_train, y_train)\n",
    "\n",
    "y_pred_prob = model.predict_proba(X_valid)[:,1]\n",
    "y_pred = model.predict(X_valid)"
   ]
  },
  {
   "cell_type": "code",
   "execution_count": 315,
   "metadata": {},
   "outputs": [],
   "source": [
    "# Метрики качества\n",
    "metrics = ['accuracy', 'precision', 'recall', 'f1_score']\n",
    "value = [accuracy_score(y_valid,y_pred), precision_score(y_valid,y_pred), recall_score(y_valid,y_pred),\n",
    "         f1_score(y_valid,y_pred)]\n",
    "first_metrics_df = pd.DataFrame({'Метрика': metrics, 'Значение': value}, columns=['Метрика', 'Значение'])"
   ]
  },
  {
   "cell_type": "code",
   "execution_count": 316,
   "metadata": {},
   "outputs": [
    {
     "data": {
      "image/png": "[encoded data removed]",
      "text/plain": [
       "<Figure size 432x288 with 1 Axes>"
      ]
     },
     "metadata": {
      "needs_background": "light"
     },
     "output_type": "display_data"
    }
   ],
   "source": [
    "#Кривая ROC-AUC\n",
    "fpr, tpr, threshold = roc_curve(y_valid, y_pred_prob)\n",
    "roc_auc = roc_auc_score(y_valid, y_pred_prob)\n",
    "\n",
    "plt.figure()\n",
    "plt.plot([0, 1], label='Baseline', linestyle='--')\n",
    "plt.plot(fpr, tpr, label = 'Regression')\n",
    "plt.title('Logistic Regression ROC AUC = %0.3f' % roc_auc)\n",
    "plt.ylabel('True Positive Rate')\n",
    "plt.xlabel('False Positive Rate')\n",
    "plt.legend(loc = 'lower right')\n",
    "plt.show()"
   ]
  },
  {
   "cell_type": "code",
   "execution_count": 317,
   "metadata": {},
   "outputs": [
    {
     "name": "stdout",
     "output_type": "stream",
     "text": [
      "41 66\n",
      "1786 12867\n"
     ]
    }
   ],
   "source": [
    "# Матрица ошибок\n",
    "tn, fp, fn, tp = confusion_matrix(y_valid, y_pred).ravel()\n",
    "print(tp, fp) \n",
    "print(fn, tn)"
   ]
  },
  {
   "cell_type": "code",
   "execution_count": 318,
   "metadata": {},
   "outputs": [],
   "source": [
    "# Хотя ROC-AUC дал неплохой результат, мы абсолютно не угадали дефолтных клиентов. \n",
    "# Посмотрим на PRC-AUC, поскольку данная метрика может оценивать эффективность алгоритма на несбалансированных данных\n",
    "precision, recall, thresholds = precision_recall_curve(y_valid, y_pred_prob)"
   ]
  },
  {
   "cell_type": "code",
   "execution_count": 319,
   "metadata": {},
   "outputs": [
    {
     "data": {
      "image/png": "[encoded data removed]",
      "text/plain": [
       "<Figure size 576x432 with 1 Axes>"
      ]
     },
     "metadata": {
      "needs_background": "light"
     },
     "output_type": "display_data"
    }
   ],
   "source": [
    "plt.figure(figsize=(8, 6))\n",
    "prc_area = auc(recall, precision)\n",
    "plt.plot(recall, precision, lw=3, label='площадь под PR кривой = %0.3f)' % prc_area)\n",
    "    \n",
    "plt.xlim([-.05, 1.0])\n",
    "plt.ylim([-.05, 1.05])\n",
    "plt.xlabel('Recall')\n",
    "plt.ylabel('Precision')\n",
    "plt.title('Precision-Recall Curve')\n",
    "plt.legend(loc=\"upper right\")\n",
    "plt.show()\n"
   ]
  },
  {
   "cell_type": "code",
   "execution_count": 320,
   "metadata": {},
   "outputs": [],
   "source": [
    "# Добавим метрики в наш датасет метрик для первой модели\n",
    "\n",
    "add_metrics = pd.DataFrame({'Метрика': ['ROC_AUC', 'PRC_AUC'], 'Значение':\n",
    "                            [roc_auc, prc_area]}, columns=['Метрика', 'Значение'])\n",
    "\n",
    "first_metrics_df = first_metrics_df.append(add_metrics, ignore_index=True)"
   ]
  },
  {
   "cell_type": "code",
   "execution_count": 321,
   "metadata": {},
   "outputs": [
    {
     "data": {
      "text/html": [
       "<div>\n",
       "<style scoped>\n",
       "    .dataframe tbody tr th:only-of-type {\n",
       "        vertical-align: middle;\n",
       "    }\n",
       "\n",
       "    .dataframe tbody tr th {\n",
       "        vertical-align: top;\n",
       "    }\n",
       "\n",
       "    .dataframe thead th {\n",
       "        text-align: right;\n",
       "    }\n",
       "</style>\n",
       "<table border=\"1\" class=\"dataframe\">\n",
       "  <thead>\n",
       "    <tr style=\"text-align: right;\">\n",
       "      <th></th>\n",
       "      <th>Метрика</th>\n",
       "      <th>Значение</th>\n",
       "    </tr>\n",
       "  </thead>\n",
       "  <tbody>\n",
       "    <tr>\n",
       "      <th>0</th>\n",
       "      <td>accuracy</td>\n",
       "      <td>0.874526</td>\n",
       "    </tr>\n",
       "    <tr>\n",
       "      <th>1</th>\n",
       "      <td>precision</td>\n",
       "      <td>0.383178</td>\n",
       "    </tr>\n",
       "    <tr>\n",
       "      <th>2</th>\n",
       "      <td>recall</td>\n",
       "      <td>0.022441</td>\n",
       "    </tr>\n",
       "    <tr>\n",
       "      <th>3</th>\n",
       "      <td>f1_score</td>\n",
       "      <td>0.042399</td>\n",
       "    </tr>\n",
       "    <tr>\n",
       "      <th>4</th>\n",
       "      <td>ROC_AUC</td>\n",
       "      <td>0.743105</td>\n",
       "    </tr>\n",
       "    <tr>\n",
       "      <th>5</th>\n",
       "      <td>PRC_AUC</td>\n",
       "      <td>0.282549</td>\n",
       "    </tr>\n",
       "  </tbody>\n",
       "</table>\n",
       "</div>"
      ],
      "text/plain": [
       "     Метрика  Значение\n",
       "0   accuracy  0.874526\n",
       "1  precision  0.383178\n",
       "2     recall  0.022441\n",
       "3   f1_score  0.042399\n",
       "4    ROC_AUC  0.743105\n",
       "5    PRC_AUC  0.282549"
      ]
     },
     "execution_count": 321,
     "metadata": {},
     "output_type": "execute_result"
    }
   ],
   "source": [
    "first_metrics_df"
   ]
  },
  {
   "cell_type": "code",
   "execution_count": 322,
   "metadata": {},
   "outputs": [
    {
     "name": "stderr",
     "output_type": "stream",
     "text": [
      "E:\\anaconda3\\lib\\site-packages\\sklearn\\model_selection\\_search.py:921: UserWarning: One or more of the test scores are non-finite: [       nan        nan        nan        nan 0.33981291        nan\n",
      " 0.33981291        nan 0.05606898 0.05581602        nan 0.05484849\n",
      " 0.05390393 0.05606898 0.05581602        nan 0.05484849 0.05390393\n",
      " 0.34033416 0.33744414 0.34026727 0.33992432 0.33941233 0.34033416\n",
      " 0.33744414 0.34026727 0.33992432 0.33941233 0.05654685 0.05386386\n",
      " 0.05483553 0.0541444  0.05654685 0.05386386 0.05483553 0.0541444\n",
      " 0.33997932 0.33812128 0.33971004 0.33945693 0.33997932 0.33812128\n",
      " 0.33971004 0.33945693]\n",
      "  category=UserWarning\n"
     ]
    },
    {
     "name": "stdout",
     "output_type": "stream",
     "text": [
      "LogisticRegression(class_weight='balanced', random_state=42, solver='newton-cg')\n"
     ]
    }
   ],
   "source": [
    "# f1_score = 0.038 recall = 0.022. Имеем ошибку второго рода. \n",
    "# В данном случае метрика ROC-AUC (= 0.743) не показательна, \n",
    "# поскольку мы имеем дело с несбалансированной моделью.\n",
    "# Попробуем подобрать параметры вручную\n",
    "\n",
    "model = LogisticRegression(random_state=RANDOM_SEED)\n",
    "\n",
    "iter_max = 100\n",
    "\n",
    "param_grid = [\n",
    "    {'penalty': ['l1'], \n",
    "     'solver': ['liblinear', 'lbfgs'], \n",
    "     'class_weight':['none', 'balanced'], \n",
    "     'multi_class': ['auto','ovr'], \n",
    "     'max_iter':[iter_max]},\n",
    "    {'penalty': ['l2'], \n",
    "     'solver': ['newton-cg', 'lbfgs', 'liblinear', 'sag', 'saga'], \n",
    "     'class_weight':['none', 'balanced'], \n",
    "     'multi_class': ['auto','ovr'], \n",
    "     'max_iter':[iter_max]},\n",
    "    {'penalty': ['none'], \n",
    "     'solver': ['newton-cg', 'lbfgs', 'sag', 'saga'], \n",
    "     'class_weight':['none', 'balanced'], \n",
    "     'multi_class': ['auto','ovr'], \n",
    "     'max_iter':[iter_max]},\n",
    "]\n",
    "\n",
    "gridsearch = GridSearchCV(model, param_grid, scoring='f1', n_jobs=-1)\n",
    "gridsearch.fit(X_train, y_train)\n",
    "model = gridsearch.best_estimator_\n",
    "print(model)"
   ]
  },
  {
   "cell_type": "code",
   "execution_count": 323,
   "metadata": {},
   "outputs": [],
   "source": [
    "# Обучим модель на данных и проверим confusion_matrix\n",
    "\n",
    "model.fit(X_train, y_train)\n",
    "\n",
    "y_pred_prob = model.predict_proba(X_valid)[:,1]\n",
    "y_pred = model.predict(X_valid)"
   ]
  },
  {
   "cell_type": "code",
   "execution_count": 324,
   "metadata": {},
   "outputs": [
    {
     "name": "stdout",
     "output_type": "stream",
     "text": [
      "1250 4230\n",
      "577 8703\n"
     ]
    }
   ],
   "source": [
    "# матрица ошибок\n",
    "tn, fp, fn, tp = confusion_matrix(y_valid, y_pred).ravel()\n",
    "print(tp, fp) \n",
    "print(fn, tn)"
   ]
  },
  {
   "cell_type": "code",
   "execution_count": 325,
   "metadata": {},
   "outputs": [
    {
     "name": "stdout",
     "output_type": "stream",
     "text": [
      "Accuracy: 0.6743\n",
      "Precision: 0.2281\n",
      "Recall: 0.6842\n",
      "F1: 0.3421\n",
      "ROC_AUC =  0.7428\n",
      "PRC_AUC =  0.2819\n"
     ]
    }
   ],
   "source": [
    "print('Accuracy: %.4f' % accuracy_score(y_valid, y_pred))\n",
    "print('Precision: %.4f' % precision_score(y_valid, y_pred))\n",
    "print('Recall: %.4f' % recall_score(y_valid, y_pred))\n",
    "print('F1: %.4f' % f1_score(y_valid, y_pred))\n",
    "\n",
    "precision, recall, thresholds = precision_recall_curve(y_valid, y_pred_prob)\n",
    "print('ROC_AUC = ', round(roc_auc_score(y_valid, y_pred_prob), 4))\n",
    "print('PRC_AUC = ', round(auc(recall, precision), 4))"
   ]
  },
  {
   "cell_type": "code",
   "execution_count": 326,
   "metadata": {},
   "outputs": [
    {
     "data": {
      "text/html": [
       "<div>\n",
       "<style scoped>\n",
       "    .dataframe tbody tr th:only-of-type {\n",
       "        vertical-align: middle;\n",
       "    }\n",
       "\n",
       "    .dataframe tbody tr th {\n",
       "        vertical-align: top;\n",
       "    }\n",
       "\n",
       "    .dataframe thead th {\n",
       "        text-align: right;\n",
       "    }\n",
       "</style>\n",
       "<table border=\"1\" class=\"dataframe\">\n",
       "  <thead>\n",
       "    <tr style=\"text-align: right;\">\n",
       "      <th></th>\n",
       "      <th>Метрика</th>\n",
       "      <th>Значение</th>\n",
       "    </tr>\n",
       "  </thead>\n",
       "  <tbody>\n",
       "    <tr>\n",
       "      <th>0</th>\n",
       "      <td>accuracy</td>\n",
       "      <td>0.874526</td>\n",
       "    </tr>\n",
       "    <tr>\n",
       "      <th>1</th>\n",
       "      <td>precision</td>\n",
       "      <td>0.383178</td>\n",
       "    </tr>\n",
       "    <tr>\n",
       "      <th>2</th>\n",
       "      <td>recall</td>\n",
       "      <td>0.022441</td>\n",
       "    </tr>\n",
       "    <tr>\n",
       "      <th>3</th>\n",
       "      <td>f1_score</td>\n",
       "      <td>0.042399</td>\n",
       "    </tr>\n",
       "    <tr>\n",
       "      <th>4</th>\n",
       "      <td>ROC_AUC</td>\n",
       "      <td>0.743105</td>\n",
       "    </tr>\n",
       "    <tr>\n",
       "      <th>5</th>\n",
       "      <td>PRC_AUC</td>\n",
       "      <td>0.282549</td>\n",
       "    </tr>\n",
       "  </tbody>\n",
       "</table>\n",
       "</div>"
      ],
      "text/plain": [
       "     Метрика  Значение\n",
       "0   accuracy  0.874526\n",
       "1  precision  0.383178\n",
       "2     recall  0.022441\n",
       "3   f1_score  0.042399\n",
       "4    ROC_AUC  0.743105\n",
       "5    PRC_AUC  0.282549"
      ]
     },
     "execution_count": 326,
     "metadata": {},
     "output_type": "execute_result"
    }
   ],
   "source": [
    "# Метрики первой модели\n",
    "first_metrics_df"
   ]
  },
  {
   "cell_type": "code",
   "execution_count": null,
   "metadata": {},
   "outputs": [],
   "source": []
  },
  {
   "cell_type": "markdown",
   "metadata": {},
   "source": [
    "### Submission"
   ]
  },
  {
   "cell_type": "code",
   "execution_count": 327,
   "metadata": {},
   "outputs": [],
   "source": [
    "df_train = df.query('sample == 1').drop('sample', axis=1)\n",
    "df_test = df.query('sample == 0').drop('sample', axis=1)"
   ]
  },
  {
   "cell_type": "code",
   "execution_count": 328,
   "metadata": {},
   "outputs": [],
   "source": [
    "X_train=df_train.drop(['default'], axis=1)\n",
    "y_train = df_train.default.values\n",
    "X_test = df_test.drop(['default','client_id'], axis=1)\n"
   ]
  },
  {
   "cell_type": "code",
   "execution_count": 329,
   "metadata": {},
   "outputs": [
    {
     "data": {
      "text/plain": [
       "((36349, 27), (73799, 27), (73799, 26), (73799,), (36349, 25))"
      ]
     },
     "execution_count": 329,
     "metadata": {},
     "output_type": "execute_result"
    }
   ],
   "source": [
    "df_test.shape, df_train.shape, X_train.shape, y_train.shape, X_test.shape"
   ]
  },
  {
   "cell_type": "code",
   "execution_count": 330,
   "metadata": {},
   "outputs": [
    {
     "data": {
      "text/html": [
       "<div>\n",
       "<style scoped>\n",
       "    .dataframe tbody tr th:only-of-type {\n",
       "        vertical-align: middle;\n",
       "    }\n",
       "\n",
       "    .dataframe tbody tr th {\n",
       "        vertical-align: top;\n",
       "    }\n",
       "\n",
       "    .dataframe thead th {\n",
       "        text-align: right;\n",
       "    }\n",
       "</style>\n",
       "<table border=\"1\" class=\"dataframe\">\n",
       "  <thead>\n",
       "    <tr style=\"text-align: right;\">\n",
       "      <th></th>\n",
       "      <th>client_id</th>\n",
       "      <th>default</th>\n",
       "    </tr>\n",
       "  </thead>\n",
       "  <tbody>\n",
       "    <tr>\n",
       "      <th>0</th>\n",
       "      <td>74835</td>\n",
       "      <td>0.221024</td>\n",
       "    </tr>\n",
       "    <tr>\n",
       "      <th>1</th>\n",
       "      <td>17527</td>\n",
       "      <td>0.790035</td>\n",
       "    </tr>\n",
       "    <tr>\n",
       "      <th>2</th>\n",
       "      <td>75683</td>\n",
       "      <td>0.302913</td>\n",
       "    </tr>\n",
       "    <tr>\n",
       "      <th>3</th>\n",
       "      <td>26883</td>\n",
       "      <td>0.394712</td>\n",
       "    </tr>\n",
       "    <tr>\n",
       "      <th>4</th>\n",
       "      <td>28862</td>\n",
       "      <td>0.142904</td>\n",
       "    </tr>\n",
       "    <tr>\n",
       "      <th>5</th>\n",
       "      <td>99881</td>\n",
       "      <td>0.585458</td>\n",
       "    </tr>\n",
       "    <tr>\n",
       "      <th>6</th>\n",
       "      <td>26630</td>\n",
       "      <td>0.753032</td>\n",
       "    </tr>\n",
       "    <tr>\n",
       "      <th>7</th>\n",
       "      <td>79934</td>\n",
       "      <td>0.171925</td>\n",
       "    </tr>\n",
       "    <tr>\n",
       "      <th>8</th>\n",
       "      <td>16605</td>\n",
       "      <td>0.137632</td>\n",
       "    </tr>\n",
       "    <tr>\n",
       "      <th>9</th>\n",
       "      <td>105449</td>\n",
       "      <td>0.149389</td>\n",
       "    </tr>\n",
       "  </tbody>\n",
       "</table>\n",
       "</div>"
      ],
      "text/plain": [
       "   client_id   default\n",
       "0      74835  0.221024\n",
       "1      17527  0.790035\n",
       "2      75683  0.302913\n",
       "3      26883  0.394712\n",
       "4      28862  0.142904\n",
       "5      99881  0.585458\n",
       "6      26630  0.753032\n",
       "7      79934  0.171925\n",
       "8      16605  0.137632\n",
       "9     105449  0.149389"
      ]
     },
     "metadata": {},
     "output_type": "display_data"
    }
   ],
   "source": [
    "predict_submission = model.predict_proba(X_test)[:,1]\n",
    "\n",
    "submit = pd.DataFrame(df_test.client_id)\n",
    "submit['default']=predict_submission\n",
    "submit.to_csv('submission.csv', index=False)\n",
    "display(submit.head(10))"
   ]
  },
  {
   "cell_type": "markdown",
   "metadata": {},
   "source": [
    "### Итог"
   ]
  },
  {
   "cell_type": "code",
   "execution_count": null,
   "metadata": {},
   "outputs": [],
   "source": [
    "# Изначально данные были плохо сбалансированы, и строить адекватных прогнозов по ним не получалось. \n",
    "# Однако, с помощью GridSearchCV, удалось найти оптимальные параметры, которые обеспечили приемлимые значения метрик."
   ]
  }
 ],
 "metadata": {
  "kernelspec": {
   "display_name": "Python 3",
   "language": "python",
   "name": "python3"
  },
  "language_info": {
   "codemirror_mode": {
    "name": "ipython",
    "version": 3
   },
   "file_extension": ".py",
   "mimetype": "text/x-python",
   "name": "python",
   "nbconvert_exporter": "python",
   "pygments_lexer": "ipython3",
   "version": "3.7.6"
  }
 },
 "nbformat": 4,
 "nbformat_minor": 4
}
